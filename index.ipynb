{
 "cells": [
  {
   "cell_type": "markdown",
   "metadata": {},
   "source": [
    "# Statistical Distributions with Stem and Leaf Plots - Lab\n",
    "\n",
    "## Introduction\n",
    "\n",
    "In this lab, you'll be able to practice your stem and leaf plots knowledge.\n",
    "\n",
    "## Objectives\n",
    "\n",
    "You will be able to:\n",
    "\n",
    "* Create stem and leaf plots from given data in matplotlib\n",
    "* Compare effectiveness of stem plots as compared to histograms"
   ]
  },
  {
   "cell_type": "markdown",
   "metadata": {},
   "source": [
    "## Analyzing Students Results\n",
    "\n",
    "Following is list of marks that students obtained in a certain project (out of 100). You can clearly see that there is quite a huge spread in the data reflecting a range of numbers going from 10 to 95. \n",
    "\n",
    "```\n",
    "10,11,22,24,35,37,45,47,48,58,56,59,61,71,81,92,95\n",
    "```\n",
    "![](http://www.dasportsvault.com/wp-content/uploads/2016/05/results_icon.jpg?w=240)\n",
    "\n",
    "We would like to give grades to these students using a very naive criteria:\n",
    "* Anything below 30 is a Fail\n",
    "* 30 - 50 is a Referral for repeating the project\n",
    "* 5 - 59 is a Pass\n",
    "* 60 - 69 is a Merit\n",
    "* 70 - 79 is a Distinction\n",
    "* 80+ is a high distinction\n",
    "\n",
    "Once the criteria is established, we would like to see how many students fall in each of these classes/grades using a visual approach.\n",
    "\n",
    "We shall go ahead and build a stem and leaf plot for this data. This plot would help us visualize above grading classes and how many students fall in each class.\n",
    "\n",
    "## Let's get started \n",
    "First lets import necessary libraries. We would need numpy for processing data and matplotlib for visualizations. "
   ]
  },
  {
   "cell_type": "code",
   "execution_count": 14,
   "metadata": {},
   "outputs": [],
   "source": [
    "import matplotlib.pyplot as plt\n",
    "import numpy as np\n",
    "plt.style.use('ggplot')"
   ]
  },
  {
   "cell_type": "markdown",
   "metadata": {},
   "source": [
    "First we need to make a numpy array containing all of those above values."
   ]
  },
  {
   "cell_type": "code",
   "execution_count": 15,
   "metadata": {},
   "outputs": [
    {
     "data": {
      "text/plain": [
       "array([10, 11, 22, 24, 35, 37, 45, 47, 48, 58, 56, 59, 61, 71, 81, 92, 95])"
      ]
     },
     "execution_count": 15,
     "metadata": {},
     "output_type": "execute_result"
    }
   ],
   "source": [
    "temp = [10, 11, 22, 24, 35, 37, 45, 47, 48, 58, 56, 59, 61, 71, 81, 92, 95]\n",
    "marks = np.array(temp)\n",
    "marks\n",
    "\n",
    "# array([10, 11, 22, 24, 35, 37, 45, 47, 48, 58, 56, 59, 61, 71, 81, 92, 95])"
   ]
  },
  {
   "cell_type": "markdown",
   "metadata": {},
   "source": [
    "## Create classes from data\n",
    "\n",
    "With above data, we can develop a stem and leaf plot in a multutude of ways, \n",
    "\n",
    "In order to create stems, let's give above marks a grade as below'\n",
    "\n",
    "* Less than 30 is Grade 6\n",
    "* 30 - 50 is Grade 5\n",
    "* 51 - 59 is Grade 4\n",
    "* 60 - 69 is Grade 3\n",
    "* 70 - 79 is Grade 2\n",
    "* 80+ is Grade 1"
   ]
  },
  {
   "cell_type": "markdown",
   "metadata": {},
   "source": [
    "We can now go ahead and create stems from grades. Perform following steps:\n",
    "\n",
    "* Create a an empty list for storing grades (stems)\n",
    "* For each element in marks, save the respective rank value (1-6) in the list. (Hint: Use if-elif-if while iterating through marks)\n",
    "\n",
    ">Note : For stem and leaf plots, values in stem array **MUST** be equal to values in leaves array. "
   ]
  },
  {
   "cell_type": "code",
   "execution_count": 16,
   "metadata": {},
   "outputs": [
    {
     "data": {
      "text/plain": [
       "[6, 6, 6, 6, 5, 5, 5, 5, 5, 4, 4, 4, 3, 2, 1, 1, 1]"
      ]
     },
     "execution_count": 16,
     "metadata": {},
     "output_type": "execute_result"
    }
   ],
   "source": [
    "# Create a stems array to store the grades for all the marks in marks array, in the same order.\n",
    "stems = []\n",
    "for i in marks: \n",
    "    if i < 30:\n",
    "        stems.append(6)\n",
    "    elif i <50:\n",
    "        stems.append(5)\n",
    "    elif i <60:\n",
    "        stems.append(4)\n",
    "    elif i <70:\n",
    "        stems.append(3)\n",
    "    elif i <80:\n",
    "        stems.append(2)\n",
    "    else:\n",
    "        stems.append(1)\n",
    "        \n",
    "\n",
    "stems\n",
    "\n",
    "# [6, 6, 6, 6, 5, 5, 5, 5, 5, 4, 4, 4, 3, 2, 1, 1, 1]"
   ]
  },
  {
   "cell_type": "markdown",
   "metadata": {},
   "source": [
    "Thats great, we can use our stems(grades) and leaves(marks) for visualizing a stem and leaf plot."
   ]
  },
  {
   "cell_type": "markdown",
   "metadata": {},
   "source": [
    "##  Using `pyplot.stem()` \n",
    "\n",
    "the pyplot module in matplotlib comes packaged with a `.stem()` method for visualizing stem and leaf plots. Heres a general syntax for calling this method\n",
    "```python\n",
    "plt.stem(x=stems, y=leaves, linefmt, markerfmt, basefmt)\n",
    "```\n",
    "And [here is the official documentation](https://matplotlib.org/api/_as_gen/matplotlib.pyplot.stem.html) if you want to dig deeper for customizations. We shall simply pass the stem(grades) and leaves(marks) arrays to this function with some simple formatting to visualize the plot. Perform following tasks:\n",
    "\n",
    "* Set a figure size of 12 x 8\n",
    "* Use `.stem()` and pass in required arguments to plot\n",
    "* Set suitable limits for x and y - axis \n",
    "* Apply label and axes formatting \n",
    "* Show the final output"
   ]
  },
  {
   "cell_type": "code",
   "execution_count": 17,
   "metadata": {},
   "outputs": [
    {
     "data": {
      "image/png": "[encoded data removed]",
      "text/plain": [
       "<Figure size 432x288 with 1 Axes>"
      ]
     },
     "metadata": {},
     "output_type": "display_data"
    }
   ],
   "source": [
    "#import matplotlib\n",
    "\n",
    "#matplotlib.pyplot.stem(x=stems, y=marks, linefmt=None, markerfmt=None, basefmt=None, bottom=0, label=None, data=None)\n",
    "\n",
    "#this didn't work. got that from the docs page, but there was an example page which had this below.\n",
    "\n",
    "\n",
    "\n",
    "markerline, stemlines, baseline = plt.stem(stems, marks, '-.')\n",
    "\n",
    "# setting property of baseline with color red and linewidth 2\n",
    "plt.setp(baseline, color='r', linewidth=3)\n",
    "\n",
    "plt.show()\n"
   ]
  },
  {
   "cell_type": "markdown",
   "metadata": {},
   "source": [
    "## Analyzing the output\n",
    "So there we have it, our stem and leaf plot. We can quickly visualize the range of each class, through length of the stem (dotted lines) along with markers indicating individual values. We can also visualize how many students exist in each class. This helps us get a better insight of the data in hand.\n",
    "\n",
    "Just to get a bit more intuition behind this, let's build a histogram and compare both plots. Let's split this in 6 bins by passing the values matching our ranks. Its always a good idea to label and title your plots. "
   ]
  },
  {
   "cell_type": "code",
   "execution_count": 25,
   "metadata": {},
   "outputs": [
    {
     "ename": "SyntaxError",
     "evalue": "invalid syntax (<ipython-input-25-40e2db78526e>, line 2)",
     "output_type": "error",
     "traceback": [
      "\u001b[0;36m  File \u001b[0;32m\"<ipython-input-25-40e2db78526e>\"\u001b[0;36m, line \u001b[0;32m2\u001b[0m\n\u001b[0;31m    plt.hist(marks, bins=(0,30,50,60,70,80) range=(0,100), histtype='bar', align='mid', orientation='vertical')\u001b[0m\n\u001b[0m                                                ^\u001b[0m\n\u001b[0;31mSyntaxError\u001b[0m\u001b[0;31m:\u001b[0m invalid syntax\n"
     ]
    }
   ],
   "source": [
    "\n",
    "plt.hist(marks, bins=(0,30,50,60,70,80) , histtype='bar', align='mid', orientation='vertical')\n",
    "\n",
    "\n"
   ]
  },
  {
   "cell_type": "markdown",
   "metadata": {},
   "source": [
    "Not **AS** revealing as the stem and leaf plot, right? You can probably play around a bit with bin size to make it a bit more revealing. \n",
    "\n",
    "As we saw before, we can get an idea about the placement frequency  of marks in a certain class/grade, but theres no way to see individual values. For an indepth analysis, it is highly recommended to use the appropriate plotting style to have a clear understanding of underlying data. "
   ]
  },
  {
   "cell_type": "markdown",
   "metadata": {},
   "source": [
    "## Level Up (Optional)\n",
    "\n",
    "Let's customize our stem and leaf plot a bit more to show high distinction , distinction , merit, pass and fail, instead of numbers from 1 - 6. You would need to create labels and pass it to `xticks()` attribute of the plot object to achieve this. "
   ]
  },
  {
   "cell_type": "markdown",
   "metadata": {},
   "source": [
    "## Summary\n",
    "\n",
    "In this lab, we saw how to create stem and leaf plot using matplot lib. We saw all the necessary steps required to create classes and placing respective values inside the classes for plotting using `.stem()` method. We also re-enforced the idea that these plots could be more insightful than histograms in some cases. In the upcoming labs, we shall talk about other statistical visualizations to dive deeper into the distributions."
   ]
  },
  {
   "cell_type": "code",
   "execution_count": null,
   "metadata": {},
   "outputs": [],
   "source": []
  },
  {
   "cell_type": "code",
   "execution_count": null,
   "metadata": {},
   "outputs": [],
   "source": []
  },
  {
   "cell_type": "code",
   "execution_count": null,
   "metadata": {},
   "outputs": [],
   "source": []
  }
 ],
 "metadata": {
  "kernelspec": {
   "display_name": "Python 3",
   "language": "python",
   "name": "python3"
  },
  "language_info": {
   "codemirror_mode": {
    "name": "ipython",
    "version": 3
   },
   "file_extension": ".py",
   "mimetype": "text/x-python",
   "name": "python",
   "nbconvert_exporter": "python",
   "pygments_lexer": "ipython3",
   "version": "3.6.6"
  }
 },
 "nbformat": 4,
 "nbformat_minor": 2
}
